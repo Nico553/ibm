{
  "nbformat": 4,
  "nbformat_minor": 0,
  "metadata": {
    "colab": {
      "provenance": []
    },
    "kernelspec": {
      "name": "python3",
      "display_name": "Python 3"
    },
    "language_info": {
      "name": "python"
    }
  },
  "cells": [
    {
      "cell_type": "code",
      "execution_count": 1,
      "metadata": {
        "colab": {
          "base_uri": "https://localhost:8080/"
        },
        "id": "KJMAb6UB8UPm",
        "outputId": "826851d0-0756-4542-868c-5ed387553a6b"
      },
      "outputs": [
        {
          "output_type": "stream",
          "name": "stdout",
          "text": [
            "                       Date      Open      High       Low     Close  \\\n",
            "0 2010-06-29 00:00:00-04:00  1.266667  1.666667  1.169333  1.592667   \n",
            "1 2010-06-30 00:00:00-04:00  1.719333  2.028000  1.553333  1.588667   \n",
            "2 2010-07-01 00:00:00-04:00  1.666667  1.728000  1.351333  1.464000   \n",
            "3 2010-07-02 00:00:00-04:00  1.533333  1.540000  1.247333  1.280000   \n",
            "4 2010-07-06 00:00:00-04:00  1.333333  1.333333  1.055333  1.074000   \n",
            "\n",
            "      Volume  Dividends  Stock Splits  \n",
            "0  281494500        0.0           0.0  \n",
            "1  257806500        0.0           0.0  \n",
            "2  123282000        0.0           0.0  \n",
            "3   77097000        0.0           0.0  \n",
            "4  103003500        0.0           0.0  \n"
          ]
        }
      ],
      "source": [
        "import yfinance as yf\n",
        "\n",
        "tesla = yf.Ticker(\"TSLA\")\n",
        "\n",
        "tesla_data = tesla.history(period=\"max\")\n",
        "\n",
        "tesla_data.reset_index(inplace=True)\n",
        "\n",
        "print(tesla_data.head())"
      ]
    },
    {
      "cell_type": "code",
      "source": [
        "import pandas as pd\n",
        "\n",
        "tesla_revenue = pd.DataFrame({\n",
        "    'Date': [\n",
        "        '2024-12-31', '2024-09-30', '2024-06-30', '2024-03-31', '2023-12-31',\n",
        "        '2023-09-30', '2023-06-30', '2023-03-31', '2022-12-31', '2022-09-30',\n",
        "        '2022-06-30', '2022-03-31', '2021-12-31', '2021-09-30', '2021-06-30',\n",
        "        '2021-03-31', '2020-12-31', '2020-09-30', '2020-06-30', '2020-03-31',\n",
        "        '2019-12-31', '2019-09-30', '2019-06-30', '2019-03-31', '2018-12-31',\n",
        "        '2018-09-30', '2018-06-30', '2018-03-31', '2017-12-31', '2017-09-30',\n",
        "        '2017-06-30', '2017-03-31', '2016-12-31', '2016-09-30', '2016-06-30',\n",
        "        '2016-03-31', '2015-12-31', '2015-09-30', '2015-06-30', '2015-03-31',\n",
        "        '2014-12-31', '2014-09-30', '2014-06-30', '2014-03-31', '2013-12-31',\n",
        "        '2013-09-30', '2013-06-30', '2013-03-31', '2012-12-31', '2012-09-30',\n",
        "        '2012-06-30', '2012-03-31', '2011-12-31', '2011-09-30', '2011-06-30',\n",
        "        '2011-03-31', '2010-12-31', '2010-09-30', '2010-06-30', '2010-03-31',\n",
        "        '2009-12-31', '2009-09-30', '2009-06-30'\n",
        "    ],\n",
        "    'Revenue': [\n",
        "        '$25.707B', '$25.182B', '$25.5B', '$21.301B', '$25.167B',\n",
        "        '$23.35B', '$24.927B', '$23.329B', '$24.318B', '$21.454B',\n",
        "        '$16.934B', '$18.756B', '$17.719B', '$13.757B', '$11.958B',\n",
        "        '$10.389B', '$10.744B', '$8.771B', '$6.036B', '$5.985B',\n",
        "        '$7.384B', '$6.303B', '$6.35B', '$4.541B', '$7.226B',\n",
        "        '$6.824B', '$4.002B', '$3.409B', '$3.288B', '$2.985B',\n",
        "        '$2.79B', '$2.696B', '$2.285B', '$2.298B', '$1.27B',\n",
        "        '$1.147B', '$1.214B', '$0.937B', '$0.955B', '$0.94B',\n",
        "        '$0.957B', '$0.852B', '$0.769B', '$0.621B', '$0.615B',\n",
        "        '$0.431B', '$0.405B', '$0.562B', '$0.306B', '$0.05B',\n",
        "        '$0.027B', '$0.03B', '$0.039B', '$0.058B', '$0.058B',\n",
        "        '$0.049B', '$0.036B', '$0.031B', '$0.028B', '$0.021B',\n",
        "        '$0B', '$0.046B', '$0.027B'\n",
        "    ]\n",
        "})\n",
        "\n",
        "tesla_revenue['Revenue'] = tesla_revenue['Revenue'].str.replace(r'[$,B]', '', regex=True).astype(float)\n",
        "print(tesla_revenue)"
      ],
      "metadata": {
        "colab": {
          "base_uri": "https://localhost:8080/"
        },
        "id": "FQcpk6Qc8_JK",
        "outputId": "c99bb563-2031-4a30-c265-05d326408d70"
      },
      "execution_count": 2,
      "outputs": [
        {
          "output_type": "stream",
          "name": "stdout",
          "text": [
            "          Date  Revenue\n",
            "0   2024-12-31   25.707\n",
            "1   2024-09-30   25.182\n",
            "2   2024-06-30   25.500\n",
            "3   2024-03-31   21.301\n",
            "4   2023-12-31   25.167\n",
            "..         ...      ...\n",
            "58  2010-06-30    0.028\n",
            "59  2010-03-31    0.021\n",
            "60  2009-12-31    0.000\n",
            "61  2009-09-30    0.046\n",
            "62  2009-06-30    0.027\n",
            "\n",
            "[63 rows x 2 columns]\n"
          ]
        }
      ]
    },
    {
      "cell_type": "code",
      "source": [
        "import yfinance as yf\n",
        "\n",
        "gme = yf.Ticker(\"GME\")\n",
        "\n",
        "gme_data = gme.history(period=\"max\")\n",
        "\n",
        "gme_data.reset_index(inplace=True)\n",
        "\n",
        "print(gme_data.head())"
      ],
      "metadata": {
        "colab": {
          "base_uri": "https://localhost:8080/"
        },
        "id": "7YYyqoc89Wrl",
        "outputId": "40b22133-fb32-4808-b881-7b0c296629ec"
      },
      "execution_count": 3,
      "outputs": [
        {
          "output_type": "stream",
          "name": "stdout",
          "text": [
            "                       Date      Open      High       Low     Close    Volume  \\\n",
            "0 2002-02-13 00:00:00-05:00  1.620128  1.693350  1.603296  1.691666  76216000   \n",
            "1 2002-02-14 00:00:00-05:00  1.712707  1.716073  1.670626  1.683250  11021600   \n",
            "2 2002-02-15 00:00:00-05:00  1.683250  1.687458  1.658001  1.674834   8389600   \n",
            "3 2002-02-19 00:00:00-05:00  1.666418  1.666418  1.578047  1.607504   7410400   \n",
            "4 2002-02-20 00:00:00-05:00  1.615920  1.662210  1.603296  1.662210   6892800   \n",
            "\n",
            "   Dividends  Stock Splits  \n",
            "0        0.0           0.0  \n",
            "1        0.0           0.0  \n",
            "2        0.0           0.0  \n",
            "3        0.0           0.0  \n",
            "4        0.0           0.0  \n"
          ]
        }
      ]
    },
    {
      "cell_type": "code",
      "source": [
        "import pandas as pd\n",
        "\n",
        "gme_revenue = pd.DataFrame({\n",
        "    'Date': [\n",
        "        '2025-02-01', '2024-11-02', '2024-08-03', '2024-05-04', '2024-02-03',\n",
        "        '2023-10-28', '2023-07-29', '2023-04-29', '2023-01-28', '2022-10-29'\n",
        "    ],\n",
        "    'Revenue': [\n",
        "        1.283, 1.078, 1.164, 1.237, 2.226,\n",
        "        1.087, 1.140, 1.390, 2.234, 1.302\n",
        "    ]\n",
        "})\n",
        "\n",
        "print(gme_revenue)\n",
        "print(\"\\nNota: Estos datos no se obtuvieron mediante web scraping. Son solo para fines ilustrativos.\")"
      ],
      "metadata": {
        "colab": {
          "base_uri": "https://localhost:8080/"
        },
        "id": "sMwi5BjM-k0U",
        "outputId": "4864c711-31d2-4e81-aa1b-c14d0f064cbc"
      },
      "execution_count": 4,
      "outputs": [
        {
          "output_type": "stream",
          "name": "stdout",
          "text": [
            "         Date  Revenue\n",
            "0  2025-02-01    1.283\n",
            "1  2024-11-02    1.078\n",
            "2  2024-08-03    1.164\n",
            "3  2024-05-04    1.237\n",
            "4  2024-02-03    2.226\n",
            "5  2023-10-28    1.087\n",
            "6  2023-07-29    1.140\n",
            "7  2023-04-29    1.390\n",
            "8  2023-01-28    2.234\n",
            "9  2022-10-29    1.302\n",
            "\n",
            "Nota: Estos datos no se obtuvieron mediante web scraping. Son solo para fines ilustrativos.\n"
          ]
        }
      ]
    },
    {
      "cell_type": "code",
      "source": [
        "import yfinance as yf\n",
        "import pandas as pd\n",
        "import plotly.graph_objects as go\n",
        "from plotly.subplots import make_subplots\n",
        "\n",
        "# 1. Extracción de datos de acciones de Tesla\n",
        "tesla = yf.Ticker(\"TSLA\")\n",
        "tesla_data = tesla.history(period=\"max\")\n",
        "tesla_data.reset_index(inplace=True)\n",
        "\n",
        "# 2. Datos de ingresos de Tesla (usando los datos proporcionados anteriormente)\n",
        "tesla_revenue = pd.DataFrame({\n",
        "    'Date': [\n",
        "        '2024-12-31', '2024-09-30', '2024-06-30', '2024-03-31', '2023-12-31',\n",
        "        '2023-09-30', '2023-06-30', '2023-03-31', '2022-12-31', '2022-09-30',\n",
        "        '2022-06-30', '2022-03-31', '2021-12-31', '2021-09-30', '2021-06-30',\n",
        "        '2021-03-31', '2020-12-31', '2020-09-30', '2020-06-30', '2020-03-31',\n",
        "        '2019-12-31', '2019-09-30', '2019-06-30', '2019-03-31', '2018-12-31',\n",
        "        '2018-09-30', '2018-06-30', '2018-03-31', '2017-12-31', '2017-09-30',\n",
        "        '2017-06-30', '2017-03-31', '2016-12-31', '2016-09-30', '2016-06-30',\n",
        "        '2016-03-31', '2015-12-31', '2015-09-30', '2015-06-30', '2015-03-31',\n",
        "        '2014-12-31', '2014-09-30', '2014-06-30', '2014-03-31', '2013-12-31',\n",
        "        '2013-09-30', '2013-06-30', '2013-03-31', '2012-12-31', '2012-09-30',\n",
        "        '2012-06-30', '2012-03-31', '2011-12-31', '2011-09-30', '2011-06-30',\n",
        "        '2011-03-31', '2010-12-31', '2010-09-30', '2010-06-30', '2010-03-31',\n",
        "        '2009-12-31', '2009-09-30', '2009-06-30'\n",
        "    ],\n",
        "    'Revenue': [\n",
        "        25.707, 25.182, 25.5, 21.301, 25.167,\n",
        "        23.35, 24.927, 23.329, 24.318, 21.454,\n",
        "        16.934, 18.756, 17.719, 13.757, 11.958,\n",
        "        10.389, 10.744, 8.771, 6.036, 5.985,\n",
        "        7.384, 6.303, 6.35, 4.541, 7.226,\n",
        "        6.824, 4.002, 3.409, 3.288, 2.985,\n",
        "        2.79, 2.696, 2.285, 2.298, 1.27,\n",
        "        1.147, 1.214, 0.937, 0.955, 0.94,\n",
        "        0.957, 0.852, 0.769, 0.621, 0.615,\n",
        "        0.431, 0.405, 0.562, 0.306, 0.05,\n",
        "        0.027, 0.03, 0.039, 0.058, 0.058,\n",
        "        0.049, 0.036, 0.031, 0.028, 0.021,\n",
        "        0, 0.046, 0.027\n",
        "    ]\n",
        "})\n",
        "tesla_revenue['Revenue'] = tesla_revenue['Revenue'] * 1e9 # Convert to actual value\n",
        "\n",
        "# Convert 'Date' columns to datetime objects for proper merging and plotting\n",
        "tesla_data['Date'] = pd.to_datetime(tesla_data['Date']).dt.strftime('%Y-%m-%d')\n",
        "tesla_revenue['Date'] = pd.to_datetime(tesla_revenue['Date']).dt.strftime('%Y-%m-%d')\n",
        "\n",
        "# Merge the stock data and revenue data on the 'Date' column\n",
        "tesla_dashboard_data = pd.merge(tesla_data, tesla_revenue, on='Date', how='inner')\n",
        "\n",
        "# Create the dashboard with two subplots\n",
        "fig = make_subplots(rows=2, cols=1, shared_xaxes=True, vertical_spacing=0.3, subplot_titles=('Tesla Stock Price (Close)', 'Tesla Revenue'))\n",
        "\n",
        "# Plot Tesla Stock Price\n",
        "fig.add_trace(go.Scatter(x=tesla_dashboard_data['Date'], y=tesla_dashboard_data['Close'], name='Close Price'), row=1, col=1)\n",
        "\n",
        "# Plot Tesla Revenue\n",
        "fig.add_trace(go.Scatter(x=tesla_dashboard_data['Date'], y=tesla_dashboard_data['Revenue'], name='Revenue'), row=2, col=1)\n",
        "\n",
        "# Update layout for better visualization\n",
        "fig.update_layout(\n",
        "    title='Tesla Stock Price and Revenue Dashboard',\n",
        "    xaxis_title='Date',\n",
        "    yaxis_title='Stock Price (USD)',\n",
        "    yaxis2_title='Revenue (USD)',\n",
        "    xaxis_rangeslider_visible=False\n",
        ")\n",
        "\n",
        "fig.show()\n",
        "\n",
        "# Display the merged data (optional)\n",
        "print(\"\\nMerged Tesla Stock and Revenue Data:\")\n",
        "print(tesla_dashboard_data.head())"
      ],
      "metadata": {
        "colab": {
          "base_uri": "https://localhost:8080/",
          "height": 802
        },
        "id": "njaILynF_EQM",
        "outputId": "e24b274b-0614-47b1-f8bc-31927c87e25c"
      },
      "execution_count": 6,
      "outputs": [
        {
          "output_type": "display_data",
          "data": {
            "text/html": [
              "<html>\n",
              "<head><meta charset=\"utf-8\" /></head>\n",
              "<body>\n",
              "    <div>            <script src=\"https://cdnjs.cloudflare.com/ajax/libs/mathjax/2.7.5/MathJax.js?config=TeX-AMS-MML_SVG\"></script><script type=\"text/javascript\">if (window.MathJax && window.MathJax.Hub && window.MathJax.Hub.Config) {window.MathJax.Hub.Config({SVG: {font: \"STIX-Web\"}});}</script>                <script type=\"text/javascript\">window.PlotlyConfig = {MathJaxConfig: 'local'};</script>\n",
              "        <script charset=\"utf-8\" src=\"https://cdn.plot.ly/plotly-2.35.2.min.js\"></script>                <div id=\"3a6684aa-9a50-4ade-b352-3a077c3d5b8b\" class=\"plotly-graph-div\" style=\"height:525px; width:100%;\"></div>            <script type=\"text/javascript\">                                    window.PLOTLYENV=window.PLOTLYENV || {};                                    if (document.getElementById(\"3a6684aa-9a50-4ade-b352-3a077c3d5b8b\")) {                    Plotly.newPlot(                        \"3a6684aa-9a50-4ade-b352-3a077c3d5b8b\",                        [{\"name\":\"Close Price\",\"x\":[\"2010-06-30\",\"2010-09-30\",\"2010-12-31\",\"2011-03-31\",\"2011-06-30\",\"2011-09-30\",\"2012-12-31\",\"2013-09-30\",\"2013-12-31\",\"2014-03-31\",\"2014-06-30\",\"2014-09-30\",\"2014-12-31\",\"2015-03-31\",\"2015-06-30\",\"2015-09-30\",\"2015-12-31\",\"2016-03-31\",\"2016-06-30\",\"2016-09-30\",\"2017-03-31\",\"2017-06-30\",\"2018-12-31\",\"2019-09-30\",\"2019-12-31\",\"2020-03-31\",\"2020-06-30\",\"2020-09-30\",\"2020-12-31\",\"2021-03-31\",\"2021-06-30\",\"2021-09-30\",\"2021-12-31\",\"2022-03-31\",\"2022-06-30\",\"2022-09-30\",\"2023-03-31\",\"2023-06-30\",\"2024-09-30\",\"2024-12-31\"],\"y\":[1.5886670351028442,1.3606669902801514,1.775333046913147,1.850000023841858,1.9420000314712524,1.6260000467300415,2.257999897003174,12.891332626342773,10.028667449951172,13.896666526794434,16.003999710083008,16.178667068481445,14.827333450317383,12.584667205810547,17.884000778198242,16.559999465942383,16.000667572021484,15.317999839782715,14.152000427246094,13.60200023651123,18.553333282470703,24.107332229614258,22.18666648864746,16.058000564575195,27.8886661529541,34.93333435058594,71.98733520507812,143.00332641601562,235.22332763671875,222.64332580566406,226.56666564941406,258.49334716796875,352.260009765625,359.20001220703125,224.47332763671875,265.25,207.4600067138672,261.7699890136719,261.6300048828125,403.8399963378906],\"type\":\"scatter\",\"xaxis\":\"x\",\"yaxis\":\"y\"},{\"name\":\"Revenue\",\"x\":[\"2010-06-30\",\"2010-09-30\",\"2010-12-31\",\"2011-03-31\",\"2011-06-30\",\"2011-09-30\",\"2012-12-31\",\"2013-09-30\",\"2013-12-31\",\"2014-03-31\",\"2014-06-30\",\"2014-09-30\",\"2014-12-31\",\"2015-03-31\",\"2015-06-30\",\"2015-09-30\",\"2015-12-31\",\"2016-03-31\",\"2016-06-30\",\"2016-09-30\",\"2017-03-31\",\"2017-06-30\",\"2018-12-31\",\"2019-09-30\",\"2019-12-31\",\"2020-03-31\",\"2020-06-30\",\"2020-09-30\",\"2020-12-31\",\"2021-03-31\",\"2021-06-30\",\"2021-09-30\",\"2021-12-31\",\"2022-03-31\",\"2022-06-30\",\"2022-09-30\",\"2023-03-31\",\"2023-06-30\",\"2024-09-30\",\"2024-12-31\"],\"y\":[28000000.0,31000000.0,36000000.0,49000000.0,58000000.0,58000000.0,306000000.0,431000000.0,615000000.0,621000000.0,769000000.0,852000000.0,957000000.0,940000000.0,955000000.0,937000000.0,1214000000.0,1147000000.0,1270000000.0,2298000000.0,2696000000.0,2790000000.0,7226000000.0,6303000000.0,7384000000.0,5985000000.0,6036000000.0,8771000000.0,10744000000.0,10389000000.0,11958000000.0,13757000000.0,17719000000.0,18756000000.0,16934000000.000002,21454000000.0,23329000000.0,24927000000.0,25182000000.0,25707000000.0],\"type\":\"scatter\",\"xaxis\":\"x2\",\"yaxis\":\"y2\"}],                        {\"template\":{\"data\":{\"histogram2dcontour\":[{\"type\":\"histogram2dcontour\",\"colorbar\":{\"outlinewidth\":0,\"ticks\":\"\"},\"colorscale\":[[0.0,\"#0d0887\"],[0.1111111111111111,\"#46039f\"],[0.2222222222222222,\"#7201a8\"],[0.3333333333333333,\"#9c179e\"],[0.4444444444444444,\"#bd3786\"],[0.5555555555555556,\"#d8576b\"],[0.6666666666666666,\"#ed7953\"],[0.7777777777777778,\"#fb9f3a\"],[0.8888888888888888,\"#fdca26\"],[1.0,\"#f0f921\"]]}],\"choropleth\":[{\"type\":\"choropleth\",\"colorbar\":{\"outlinewidth\":0,\"ticks\":\"\"}}],\"histogram2d\":[{\"type\":\"histogram2d\",\"colorbar\":{\"outlinewidth\":0,\"ticks\":\"\"},\"colorscale\":[[0.0,\"#0d0887\"],[0.1111111111111111,\"#46039f\"],[0.2222222222222222,\"#7201a8\"],[0.3333333333333333,\"#9c179e\"],[0.4444444444444444,\"#bd3786\"],[0.5555555555555556,\"#d8576b\"],[0.6666666666666666,\"#ed7953\"],[0.7777777777777778,\"#fb9f3a\"],[0.8888888888888888,\"#fdca26\"],[1.0,\"#f0f921\"]]}],\"heatmap\":[{\"type\":\"heatmap\",\"colorbar\":{\"outlinewidth\":0,\"ticks\":\"\"},\"colorscale\":[[0.0,\"#0d0887\"],[0.1111111111111111,\"#46039f\"],[0.2222222222222222,\"#7201a8\"],[0.3333333333333333,\"#9c179e\"],[0.4444444444444444,\"#bd3786\"],[0.5555555555555556,\"#d8576b\"],[0.6666666666666666,\"#ed7953\"],[0.7777777777777778,\"#fb9f3a\"],[0.8888888888888888,\"#fdca26\"],[1.0,\"#f0f921\"]]}],\"heatmapgl\":[{\"type\":\"heatmapgl\",\"colorbar\":{\"outlinewidth\":0,\"ticks\":\"\"},\"colorscale\":[[0.0,\"#0d0887\"],[0.1111111111111111,\"#46039f\"],[0.2222222222222222,\"#7201a8\"],[0.3333333333333333,\"#9c179e\"],[0.4444444444444444,\"#bd3786\"],[0.5555555555555556,\"#d8576b\"],[0.6666666666666666,\"#ed7953\"],[0.7777777777777778,\"#fb9f3a\"],[0.8888888888888888,\"#fdca26\"],[1.0,\"#f0f921\"]]}],\"contourcarpet\":[{\"type\":\"contourcarpet\",\"colorbar\":{\"outlinewidth\":0,\"ticks\":\"\"}}],\"contour\":[{\"type\":\"contour\",\"colorbar\":{\"outlinewidth\":0,\"ticks\":\"\"},\"colorscale\":[[0.0,\"#0d0887\"],[0.1111111111111111,\"#46039f\"],[0.2222222222222222,\"#7201a8\"],[0.3333333333333333,\"#9c179e\"],[0.4444444444444444,\"#bd3786\"],[0.5555555555555556,\"#d8576b\"],[0.6666666666666666,\"#ed7953\"],[0.7777777777777778,\"#fb9f3a\"],[0.8888888888888888,\"#fdca26\"],[1.0,\"#f0f921\"]]}],\"surface\":[{\"type\":\"surface\",\"colorbar\":{\"outlinewidth\":0,\"ticks\":\"\"},\"colorscale\":[[0.0,\"#0d0887\"],[0.1111111111111111,\"#46039f\"],[0.2222222222222222,\"#7201a8\"],[0.3333333333333333,\"#9c179e\"],[0.4444444444444444,\"#bd3786\"],[0.5555555555555556,\"#d8576b\"],[0.6666666666666666,\"#ed7953\"],[0.7777777777777778,\"#fb9f3a\"],[0.8888888888888888,\"#fdca26\"],[1.0,\"#f0f921\"]]}],\"mesh3d\":[{\"type\":\"mesh3d\",\"colorbar\":{\"outlinewidth\":0,\"ticks\":\"\"}}],\"scatter\":[{\"fillpattern\":{\"fillmode\":\"overlay\",\"size\":10,\"solidity\":0.2},\"type\":\"scatter\"}],\"parcoords\":[{\"type\":\"parcoords\",\"line\":{\"colorbar\":{\"outlinewidth\":0,\"ticks\":\"\"}}}],\"scatterpolargl\":[{\"type\":\"scatterpolargl\",\"marker\":{\"colorbar\":{\"outlinewidth\":0,\"ticks\":\"\"}}}],\"bar\":[{\"error_x\":{\"color\":\"#2a3f5f\"},\"error_y\":{\"color\":\"#2a3f5f\"},\"marker\":{\"line\":{\"color\":\"#E5ECF6\",\"width\":0.5},\"pattern\":{\"fillmode\":\"overlay\",\"size\":10,\"solidity\":0.2}},\"type\":\"bar\"}],\"scattergeo\":[{\"type\":\"scattergeo\",\"marker\":{\"colorbar\":{\"outlinewidth\":0,\"ticks\":\"\"}}}],\"scatterpolar\":[{\"type\":\"scatterpolar\",\"marker\":{\"colorbar\":{\"outlinewidth\":0,\"ticks\":\"\"}}}],\"histogram\":[{\"marker\":{\"pattern\":{\"fillmode\":\"overlay\",\"size\":10,\"solidity\":0.2}},\"type\":\"histogram\"}],\"scattergl\":[{\"type\":\"scattergl\",\"marker\":{\"colorbar\":{\"outlinewidth\":0,\"ticks\":\"\"}}}],\"scatter3d\":[{\"type\":\"scatter3d\",\"line\":{\"colorbar\":{\"outlinewidth\":0,\"ticks\":\"\"}},\"marker\":{\"colorbar\":{\"outlinewidth\":0,\"ticks\":\"\"}}}],\"scattermapbox\":[{\"type\":\"scattermapbox\",\"marker\":{\"colorbar\":{\"outlinewidth\":0,\"ticks\":\"\"}}}],\"scatterternary\":[{\"type\":\"scatterternary\",\"marker\":{\"colorbar\":{\"outlinewidth\":0,\"ticks\":\"\"}}}],\"scattercarpet\":[{\"type\":\"scattercarpet\",\"marker\":{\"colorbar\":{\"outlinewidth\":0,\"ticks\":\"\"}}}],\"carpet\":[{\"aaxis\":{\"endlinecolor\":\"#2a3f5f\",\"gridcolor\":\"white\",\"linecolor\":\"white\",\"minorgridcolor\":\"white\",\"startlinecolor\":\"#2a3f5f\"},\"baxis\":{\"endlinecolor\":\"#2a3f5f\",\"gridcolor\":\"white\",\"linecolor\":\"white\",\"minorgridcolor\":\"white\",\"startlinecolor\":\"#2a3f5f\"},\"type\":\"carpet\"}],\"table\":[{\"cells\":{\"fill\":{\"color\":\"#EBF0F8\"},\"line\":{\"color\":\"white\"}},\"header\":{\"fill\":{\"color\":\"#C8D4E3\"},\"line\":{\"color\":\"white\"}},\"type\":\"table\"}],\"barpolar\":[{\"marker\":{\"line\":{\"color\":\"#E5ECF6\",\"width\":0.5},\"pattern\":{\"fillmode\":\"overlay\",\"size\":10,\"solidity\":0.2}},\"type\":\"barpolar\"}],\"pie\":[{\"automargin\":true,\"type\":\"pie\"}]},\"layout\":{\"autotypenumbers\":\"strict\",\"colorway\":[\"#636efa\",\"#EF553B\",\"#00cc96\",\"#ab63fa\",\"#FFA15A\",\"#19d3f3\",\"#FF6692\",\"#B6E880\",\"#FF97FF\",\"#FECB52\"],\"font\":{\"color\":\"#2a3f5f\"},\"hovermode\":\"closest\",\"hoverlabel\":{\"align\":\"left\"},\"paper_bgcolor\":\"white\",\"plot_bgcolor\":\"#E5ECF6\",\"polar\":{\"bgcolor\":\"#E5ECF6\",\"angularaxis\":{\"gridcolor\":\"white\",\"linecolor\":\"white\",\"ticks\":\"\"},\"radialaxis\":{\"gridcolor\":\"white\",\"linecolor\":\"white\",\"ticks\":\"\"}},\"ternary\":{\"bgcolor\":\"#E5ECF6\",\"aaxis\":{\"gridcolor\":\"white\",\"linecolor\":\"white\",\"ticks\":\"\"},\"baxis\":{\"gridcolor\":\"white\",\"linecolor\":\"white\",\"ticks\":\"\"},\"caxis\":{\"gridcolor\":\"white\",\"linecolor\":\"white\",\"ticks\":\"\"}},\"coloraxis\":{\"colorbar\":{\"outlinewidth\":0,\"ticks\":\"\"}},\"colorscale\":{\"sequential\":[[0.0,\"#0d0887\"],[0.1111111111111111,\"#46039f\"],[0.2222222222222222,\"#7201a8\"],[0.3333333333333333,\"#9c179e\"],[0.4444444444444444,\"#bd3786\"],[0.5555555555555556,\"#d8576b\"],[0.6666666666666666,\"#ed7953\"],[0.7777777777777778,\"#fb9f3a\"],[0.8888888888888888,\"#fdca26\"],[1.0,\"#f0f921\"]],\"sequentialminus\":[[0.0,\"#0d0887\"],[0.1111111111111111,\"#46039f\"],[0.2222222222222222,\"#7201a8\"],[0.3333333333333333,\"#9c179e\"],[0.4444444444444444,\"#bd3786\"],[0.5555555555555556,\"#d8576b\"],[0.6666666666666666,\"#ed7953\"],[0.7777777777777778,\"#fb9f3a\"],[0.8888888888888888,\"#fdca26\"],[1.0,\"#f0f921\"]],\"diverging\":[[0,\"#8e0152\"],[0.1,\"#c51b7d\"],[0.2,\"#de77ae\"],[0.3,\"#f1b6da\"],[0.4,\"#fde0ef\"],[0.5,\"#f7f7f7\"],[0.6,\"#e6f5d0\"],[0.7,\"#b8e186\"],[0.8,\"#7fbc41\"],[0.9,\"#4d9221\"],[1,\"#276419\"]]},\"xaxis\":{\"gridcolor\":\"white\",\"linecolor\":\"white\",\"ticks\":\"\",\"title\":{\"standoff\":15},\"zerolinecolor\":\"white\",\"automargin\":true,\"zerolinewidth\":2},\"yaxis\":{\"gridcolor\":\"white\",\"linecolor\":\"white\",\"ticks\":\"\",\"title\":{\"standoff\":15},\"zerolinecolor\":\"white\",\"automargin\":true,\"zerolinewidth\":2},\"scene\":{\"xaxis\":{\"backgroundcolor\":\"#E5ECF6\",\"gridcolor\":\"white\",\"linecolor\":\"white\",\"showbackground\":true,\"ticks\":\"\",\"zerolinecolor\":\"white\",\"gridwidth\":2},\"yaxis\":{\"backgroundcolor\":\"#E5ECF6\",\"gridcolor\":\"white\",\"linecolor\":\"white\",\"showbackground\":true,\"ticks\":\"\",\"zerolinecolor\":\"white\",\"gridwidth\":2},\"zaxis\":{\"backgroundcolor\":\"#E5ECF6\",\"gridcolor\":\"white\",\"linecolor\":\"white\",\"showbackground\":true,\"ticks\":\"\",\"zerolinecolor\":\"white\",\"gridwidth\":2}},\"shapedefaults\":{\"line\":{\"color\":\"#2a3f5f\"}},\"annotationdefaults\":{\"arrowcolor\":\"#2a3f5f\",\"arrowhead\":0,\"arrowwidth\":1},\"geo\":{\"bgcolor\":\"white\",\"landcolor\":\"#E5ECF6\",\"subunitcolor\":\"white\",\"showland\":true,\"showlakes\":true,\"lakecolor\":\"white\"},\"title\":{\"x\":0.05},\"mapbox\":{\"style\":\"light\"}}},\"xaxis\":{\"anchor\":\"y\",\"domain\":[0.0,1.0],\"matches\":\"x2\",\"showticklabels\":false,\"rangeslider\":{\"visible\":false},\"title\":{\"text\":\"Date\"}},\"yaxis\":{\"anchor\":\"x\",\"domain\":[0.6499999999999999,0.9999999999999999],\"title\":{\"text\":\"Stock Price (USD)\"}},\"xaxis2\":{\"anchor\":\"y2\",\"domain\":[0.0,1.0]},\"yaxis2\":{\"anchor\":\"x2\",\"domain\":[0.0,0.35],\"title\":{\"text\":\"Revenue (USD)\"}},\"annotations\":[{\"font\":{\"size\":16},\"showarrow\":false,\"text\":\"Tesla Stock Price (Close)\",\"x\":0.5,\"xanchor\":\"center\",\"xref\":\"paper\",\"y\":0.9999999999999999,\"yanchor\":\"bottom\",\"yref\":\"paper\"},{\"font\":{\"size\":16},\"showarrow\":false,\"text\":\"Tesla Revenue\",\"x\":0.5,\"xanchor\":\"center\",\"xref\":\"paper\",\"y\":0.35,\"yanchor\":\"bottom\",\"yref\":\"paper\"}],\"title\":{\"text\":\"Tesla Stock Price and Revenue Dashboard\"}},                        {\"responsive\": true}                    ).then(function(){\n",
              "                            \n",
              "var gd = document.getElementById('3a6684aa-9a50-4ade-b352-3a077c3d5b8b');\n",
              "var x = new MutationObserver(function (mutations, observer) {{\n",
              "        var display = window.getComputedStyle(gd).display;\n",
              "        if (!display || display === 'none') {{\n",
              "            console.log([gd, 'removed!']);\n",
              "            Plotly.purge(gd);\n",
              "            observer.disconnect();\n",
              "        }}\n",
              "}});\n",
              "\n",
              "// Listen for the removal of the full notebook cells\n",
              "var notebookContainer = gd.closest('#notebook-container');\n",
              "if (notebookContainer) {{\n",
              "    x.observe(notebookContainer, {childList: true});\n",
              "}}\n",
              "\n",
              "// Listen for the clearing of the current output cell\n",
              "var outputEl = gd.closest('.output');\n",
              "if (outputEl) {{\n",
              "    x.observe(outputEl, {childList: true});\n",
              "}}\n",
              "\n",
              "                        })                };                            </script>        </div>\n",
              "</body>\n",
              "</html>"
            ]
          },
          "metadata": {}
        },
        {
          "output_type": "stream",
          "name": "stdout",
          "text": [
            "\n",
            "Merged Tesla Stock and Revenue Data:\n",
            "         Date      Open      High       Low     Close     Volume  Dividends  \\\n",
            "0  2010-06-30  1.719333  2.028000  1.553333  1.588667  257806500        0.0   \n",
            "1  2010-09-30  1.466667  1.476667  1.346000  1.360667   32937000        0.0   \n",
            "2  2010-12-31  1.771333  1.816667  1.766667  1.775333   21268500        0.0   \n",
            "3  2011-03-31  1.770000  1.914000  1.766667  1.850000  172767000        0.0   \n",
            "4  2011-06-30  1.900000  1.955333  1.893333  1.942000   14200500        0.0   \n",
            "\n",
            "   Stock Splits     Revenue  \n",
            "0           0.0  28000000.0  \n",
            "1           0.0  31000000.0  \n",
            "2           0.0  36000000.0  \n",
            "3           0.0  49000000.0  \n",
            "4           0.0  58000000.0  \n"
          ]
        }
      ]
    },
    {
      "cell_type": "code",
      "source": [
        "import yfinance as yf\n",
        "import pandas as pd\n",
        "import plotly.graph_objects as go\n",
        "from plotly.subplots import make_subplots\n",
        "\n",
        "# 1. Extracción de datos de acciones de GameStop\n",
        "gme = yf.Ticker(\"GME\")\n",
        "gme_data = gme.history(period=\"max\")\n",
        "gme_data.reset_index(inplace=True)\n",
        "\n",
        "# 2. Datos de ingresos de GameStop (usando los datos proporcionados anteriormente)\n",
        "gme_revenue = pd.DataFrame({\n",
        "    'Date': [\n",
        "        '2025-02-01', '2024-11-02', '2024-08-03', '2024-05-04', '2024-02-03',\n",
        "        '2023-10-28', '2023-07-29', '2023-04-29', '2023-01-28', '2022-10-29'\n",
        "    ],\n",
        "    'Revenue': [\n",
        "        1.283e9, 1.078e9, 1.164e9, 1.237e9, 2.226e9,\n",
        "        1.087e9, 1.140e9, 1.390e9, 2.234e9, 1.302e9\n",
        "    ]\n",
        "})\n",
        "\n",
        "# Convert 'Date' columns to datetime objects for proper merging and plotting\n",
        "gme_data['Date'] = pd.to_datetime(gme_data['Date']).dt.strftime('%Y-%m-%d')\n",
        "gme_revenue['Date'] = pd.to_datetime(gme_revenue['Date']).dt.strftime('%Y-%m-%d')\n",
        "\n",
        "# Merge the stock data and revenue data on the 'Date' column\n",
        "gme_dashboard_data = pd.merge(gme_data, gme_revenue, on='Date', how='inner')\n",
        "\n",
        "# Create the dashboard with two subplots\n",
        "fig = make_subplots(rows=2, cols=1, shared_xaxes=True, vertical_spacing=0.3, subplot_titles=('GameStop Stock Price (Close)', 'GameStop Revenue'))\n",
        "\n",
        "# Plot GameStop Stock Price\n",
        "fig.add_trace(go.Scatter(x=gme_dashboard_data['Date'], y=gme_dashboard_data['Close'], name='Close Price'), row=1, col=1)\n",
        "\n",
        "# Plot GameStop Revenue\n",
        "fig.add_trace(go.Scatter(x=gme_dashboard_data['Date'], y=gme_dashboard_data['Revenue'], name='Revenue'), row=2, col=1)\n",
        "\n",
        "# Update layout for better visualization\n",
        "fig.update_layout(\n",
        "    title='GameStop Stock Price and Revenue Dashboard',\n",
        "    xaxis_title='Date',\n",
        "    yaxis_title='Stock Price (USD)',\n",
        "    yaxis2_title='Revenue (USD)',\n",
        "    xaxis_rangeslider_visible=False\n",
        ")\n",
        "\n",
        "fig.show()\n",
        "\n",
        "# Display the merged data (optional)\n",
        "print(\"\\nMerged GameStop Stock and Revenue Data:\")\n",
        "print(gme_dashboard_data.head())"
      ],
      "metadata": {
        "colab": {
          "base_uri": "https://localhost:8080/",
          "height": 629
        },
        "id": "eYjHshwtACLl",
        "outputId": "2027db68-a514-454c-d96a-e738302df3c7"
      },
      "execution_count": 7,
      "outputs": [
        {
          "output_type": "display_data",
          "data": {
            "text/html": [
              "<html>\n",
              "<head><meta charset=\"utf-8\" /></head>\n",
              "<body>\n",
              "    <div>            <script src=\"https://cdnjs.cloudflare.com/ajax/libs/mathjax/2.7.5/MathJax.js?config=TeX-AMS-MML_SVG\"></script><script type=\"text/javascript\">if (window.MathJax && window.MathJax.Hub && window.MathJax.Hub.Config) {window.MathJax.Hub.Config({SVG: {font: \"STIX-Web\"}});}</script>                <script type=\"text/javascript\">window.PlotlyConfig = {MathJaxConfig: 'local'};</script>\n",
              "        <script charset=\"utf-8\" src=\"https://cdn.plot.ly/plotly-2.35.2.min.js\"></script>                <div id=\"a57ecb13-63b6-4181-b501-dd619d7aaca9\" class=\"plotly-graph-div\" style=\"height:525px; width:100%;\"></div>            <script type=\"text/javascript\">                                    window.PLOTLYENV=window.PLOTLYENV || {};                                    if (document.getElementById(\"a57ecb13-63b6-4181-b501-dd619d7aaca9\")) {                    Plotly.newPlot(                        \"a57ecb13-63b6-4181-b501-dd619d7aaca9\",                        [{\"name\":\"Close Price\",\"x\":[],\"y\":[],\"type\":\"scatter\",\"xaxis\":\"x\",\"yaxis\":\"y\"},{\"name\":\"Revenue\",\"x\":[],\"y\":[],\"type\":\"scatter\",\"xaxis\":\"x2\",\"yaxis\":\"y2\"}],                        {\"template\":{\"data\":{\"histogram2dcontour\":[{\"type\":\"histogram2dcontour\",\"colorbar\":{\"outlinewidth\":0,\"ticks\":\"\"},\"colorscale\":[[0.0,\"#0d0887\"],[0.1111111111111111,\"#46039f\"],[0.2222222222222222,\"#7201a8\"],[0.3333333333333333,\"#9c179e\"],[0.4444444444444444,\"#bd3786\"],[0.5555555555555556,\"#d8576b\"],[0.6666666666666666,\"#ed7953\"],[0.7777777777777778,\"#fb9f3a\"],[0.8888888888888888,\"#fdca26\"],[1.0,\"#f0f921\"]]}],\"choropleth\":[{\"type\":\"choropleth\",\"colorbar\":{\"outlinewidth\":0,\"ticks\":\"\"}}],\"histogram2d\":[{\"type\":\"histogram2d\",\"colorbar\":{\"outlinewidth\":0,\"ticks\":\"\"},\"colorscale\":[[0.0,\"#0d0887\"],[0.1111111111111111,\"#46039f\"],[0.2222222222222222,\"#7201a8\"],[0.3333333333333333,\"#9c179e\"],[0.4444444444444444,\"#bd3786\"],[0.5555555555555556,\"#d8576b\"],[0.6666666666666666,\"#ed7953\"],[0.7777777777777778,\"#fb9f3a\"],[0.8888888888888888,\"#fdca26\"],[1.0,\"#f0f921\"]]}],\"heatmap\":[{\"type\":\"heatmap\",\"colorbar\":{\"outlinewidth\":0,\"ticks\":\"\"},\"colorscale\":[[0.0,\"#0d0887\"],[0.1111111111111111,\"#46039f\"],[0.2222222222222222,\"#7201a8\"],[0.3333333333333333,\"#9c179e\"],[0.4444444444444444,\"#bd3786\"],[0.5555555555555556,\"#d8576b\"],[0.6666666666666666,\"#ed7953\"],[0.7777777777777778,\"#fb9f3a\"],[0.8888888888888888,\"#fdca26\"],[1.0,\"#f0f921\"]]}],\"heatmapgl\":[{\"type\":\"heatmapgl\",\"colorbar\":{\"outlinewidth\":0,\"ticks\":\"\"},\"colorscale\":[[0.0,\"#0d0887\"],[0.1111111111111111,\"#46039f\"],[0.2222222222222222,\"#7201a8\"],[0.3333333333333333,\"#9c179e\"],[0.4444444444444444,\"#bd3786\"],[0.5555555555555556,\"#d8576b\"],[0.6666666666666666,\"#ed7953\"],[0.7777777777777778,\"#fb9f3a\"],[0.8888888888888888,\"#fdca26\"],[1.0,\"#f0f921\"]]}],\"contourcarpet\":[{\"type\":\"contourcarpet\",\"colorbar\":{\"outlinewidth\":0,\"ticks\":\"\"}}],\"contour\":[{\"type\":\"contour\",\"colorbar\":{\"outlinewidth\":0,\"ticks\":\"\"},\"colorscale\":[[0.0,\"#0d0887\"],[0.1111111111111111,\"#46039f\"],[0.2222222222222222,\"#7201a8\"],[0.3333333333333333,\"#9c179e\"],[0.4444444444444444,\"#bd3786\"],[0.5555555555555556,\"#d8576b\"],[0.6666666666666666,\"#ed7953\"],[0.7777777777777778,\"#fb9f3a\"],[0.8888888888888888,\"#fdca26\"],[1.0,\"#f0f921\"]]}],\"surface\":[{\"type\":\"surface\",\"colorbar\":{\"outlinewidth\":0,\"ticks\":\"\"},\"colorscale\":[[0.0,\"#0d0887\"],[0.1111111111111111,\"#46039f\"],[0.2222222222222222,\"#7201a8\"],[0.3333333333333333,\"#9c179e\"],[0.4444444444444444,\"#bd3786\"],[0.5555555555555556,\"#d8576b\"],[0.6666666666666666,\"#ed7953\"],[0.7777777777777778,\"#fb9f3a\"],[0.8888888888888888,\"#fdca26\"],[1.0,\"#f0f921\"]]}],\"mesh3d\":[{\"type\":\"mesh3d\",\"colorbar\":{\"outlinewidth\":0,\"ticks\":\"\"}}],\"scatter\":[{\"fillpattern\":{\"fillmode\":\"overlay\",\"size\":10,\"solidity\":0.2},\"type\":\"scatter\"}],\"parcoords\":[{\"type\":\"parcoords\",\"line\":{\"colorbar\":{\"outlinewidth\":0,\"ticks\":\"\"}}}],\"scatterpolargl\":[{\"type\":\"scatterpolargl\",\"marker\":{\"colorbar\":{\"outlinewidth\":0,\"ticks\":\"\"}}}],\"bar\":[{\"error_x\":{\"color\":\"#2a3f5f\"},\"error_y\":{\"color\":\"#2a3f5f\"},\"marker\":{\"line\":{\"color\":\"#E5ECF6\",\"width\":0.5},\"pattern\":{\"fillmode\":\"overlay\",\"size\":10,\"solidity\":0.2}},\"type\":\"bar\"}],\"scattergeo\":[{\"type\":\"scattergeo\",\"marker\":{\"colorbar\":{\"outlinewidth\":0,\"ticks\":\"\"}}}],\"scatterpolar\":[{\"type\":\"scatterpolar\",\"marker\":{\"colorbar\":{\"outlinewidth\":0,\"ticks\":\"\"}}}],\"histogram\":[{\"marker\":{\"pattern\":{\"fillmode\":\"overlay\",\"size\":10,\"solidity\":0.2}},\"type\":\"histogram\"}],\"scattergl\":[{\"type\":\"scattergl\",\"marker\":{\"colorbar\":{\"outlinewidth\":0,\"ticks\":\"\"}}}],\"scatter3d\":[{\"type\":\"scatter3d\",\"line\":{\"colorbar\":{\"outlinewidth\":0,\"ticks\":\"\"}},\"marker\":{\"colorbar\":{\"outlinewidth\":0,\"ticks\":\"\"}}}],\"scattermapbox\":[{\"type\":\"scattermapbox\",\"marker\":{\"colorbar\":{\"outlinewidth\":0,\"ticks\":\"\"}}}],\"scatterternary\":[{\"type\":\"scatterternary\",\"marker\":{\"colorbar\":{\"outlinewidth\":0,\"ticks\":\"\"}}}],\"scattercarpet\":[{\"type\":\"scattercarpet\",\"marker\":{\"colorbar\":{\"outlinewidth\":0,\"ticks\":\"\"}}}],\"carpet\":[{\"aaxis\":{\"endlinecolor\":\"#2a3f5f\",\"gridcolor\":\"white\",\"linecolor\":\"white\",\"minorgridcolor\":\"white\",\"startlinecolor\":\"#2a3f5f\"},\"baxis\":{\"endlinecolor\":\"#2a3f5f\",\"gridcolor\":\"white\",\"linecolor\":\"white\",\"minorgridcolor\":\"white\",\"startlinecolor\":\"#2a3f5f\"},\"type\":\"carpet\"}],\"table\":[{\"cells\":{\"fill\":{\"color\":\"#EBF0F8\"},\"line\":{\"color\":\"white\"}},\"header\":{\"fill\":{\"color\":\"#C8D4E3\"},\"line\":{\"color\":\"white\"}},\"type\":\"table\"}],\"barpolar\":[{\"marker\":{\"line\":{\"color\":\"#E5ECF6\",\"width\":0.5},\"pattern\":{\"fillmode\":\"overlay\",\"size\":10,\"solidity\":0.2}},\"type\":\"barpolar\"}],\"pie\":[{\"automargin\":true,\"type\":\"pie\"}]},\"layout\":{\"autotypenumbers\":\"strict\",\"colorway\":[\"#636efa\",\"#EF553B\",\"#00cc96\",\"#ab63fa\",\"#FFA15A\",\"#19d3f3\",\"#FF6692\",\"#B6E880\",\"#FF97FF\",\"#FECB52\"],\"font\":{\"color\":\"#2a3f5f\"},\"hovermode\":\"closest\",\"hoverlabel\":{\"align\":\"left\"},\"paper_bgcolor\":\"white\",\"plot_bgcolor\":\"#E5ECF6\",\"polar\":{\"bgcolor\":\"#E5ECF6\",\"angularaxis\":{\"gridcolor\":\"white\",\"linecolor\":\"white\",\"ticks\":\"\"},\"radialaxis\":{\"gridcolor\":\"white\",\"linecolor\":\"white\",\"ticks\":\"\"}},\"ternary\":{\"bgcolor\":\"#E5ECF6\",\"aaxis\":{\"gridcolor\":\"white\",\"linecolor\":\"white\",\"ticks\":\"\"},\"baxis\":{\"gridcolor\":\"white\",\"linecolor\":\"white\",\"ticks\":\"\"},\"caxis\":{\"gridcolor\":\"white\",\"linecolor\":\"white\",\"ticks\":\"\"}},\"coloraxis\":{\"colorbar\":{\"outlinewidth\":0,\"ticks\":\"\"}},\"colorscale\":{\"sequential\":[[0.0,\"#0d0887\"],[0.1111111111111111,\"#46039f\"],[0.2222222222222222,\"#7201a8\"],[0.3333333333333333,\"#9c179e\"],[0.4444444444444444,\"#bd3786\"],[0.5555555555555556,\"#d8576b\"],[0.6666666666666666,\"#ed7953\"],[0.7777777777777778,\"#fb9f3a\"],[0.8888888888888888,\"#fdca26\"],[1.0,\"#f0f921\"]],\"sequentialminus\":[[0.0,\"#0d0887\"],[0.1111111111111111,\"#46039f\"],[0.2222222222222222,\"#7201a8\"],[0.3333333333333333,\"#9c179e\"],[0.4444444444444444,\"#bd3786\"],[0.5555555555555556,\"#d8576b\"],[0.6666666666666666,\"#ed7953\"],[0.7777777777777778,\"#fb9f3a\"],[0.8888888888888888,\"#fdca26\"],[1.0,\"#f0f921\"]],\"diverging\":[[0,\"#8e0152\"],[0.1,\"#c51b7d\"],[0.2,\"#de77ae\"],[0.3,\"#f1b6da\"],[0.4,\"#fde0ef\"],[0.5,\"#f7f7f7\"],[0.6,\"#e6f5d0\"],[0.7,\"#b8e186\"],[0.8,\"#7fbc41\"],[0.9,\"#4d9221\"],[1,\"#276419\"]]},\"xaxis\":{\"gridcolor\":\"white\",\"linecolor\":\"white\",\"ticks\":\"\",\"title\":{\"standoff\":15},\"zerolinecolor\":\"white\",\"automargin\":true,\"zerolinewidth\":2},\"yaxis\":{\"gridcolor\":\"white\",\"linecolor\":\"white\",\"ticks\":\"\",\"title\":{\"standoff\":15},\"zerolinecolor\":\"white\",\"automargin\":true,\"zerolinewidth\":2},\"scene\":{\"xaxis\":{\"backgroundcolor\":\"#E5ECF6\",\"gridcolor\":\"white\",\"linecolor\":\"white\",\"showbackground\":true,\"ticks\":\"\",\"zerolinecolor\":\"white\",\"gridwidth\":2},\"yaxis\":{\"backgroundcolor\":\"#E5ECF6\",\"gridcolor\":\"white\",\"linecolor\":\"white\",\"showbackground\":true,\"ticks\":\"\",\"zerolinecolor\":\"white\",\"gridwidth\":2},\"zaxis\":{\"backgroundcolor\":\"#E5ECF6\",\"gridcolor\":\"white\",\"linecolor\":\"white\",\"showbackground\":true,\"ticks\":\"\",\"zerolinecolor\":\"white\",\"gridwidth\":2}},\"shapedefaults\":{\"line\":{\"color\":\"#2a3f5f\"}},\"annotationdefaults\":{\"arrowcolor\":\"#2a3f5f\",\"arrowhead\":0,\"arrowwidth\":1},\"geo\":{\"bgcolor\":\"white\",\"landcolor\":\"#E5ECF6\",\"subunitcolor\":\"white\",\"showland\":true,\"showlakes\":true,\"lakecolor\":\"white\"},\"title\":{\"x\":0.05},\"mapbox\":{\"style\":\"light\"}}},\"xaxis\":{\"anchor\":\"y\",\"domain\":[0.0,1.0],\"matches\":\"x2\",\"showticklabels\":false,\"rangeslider\":{\"visible\":false},\"title\":{\"text\":\"Date\"}},\"yaxis\":{\"anchor\":\"x\",\"domain\":[0.6499999999999999,0.9999999999999999],\"title\":{\"text\":\"Stock Price (USD)\"}},\"xaxis2\":{\"anchor\":\"y2\",\"domain\":[0.0,1.0]},\"yaxis2\":{\"anchor\":\"x2\",\"domain\":[0.0,0.35],\"title\":{\"text\":\"Revenue (USD)\"}},\"annotations\":[{\"font\":{\"size\":16},\"showarrow\":false,\"text\":\"GameStop Stock Price (Close)\",\"x\":0.5,\"xanchor\":\"center\",\"xref\":\"paper\",\"y\":0.9999999999999999,\"yanchor\":\"bottom\",\"yref\":\"paper\"},{\"font\":{\"size\":16},\"showarrow\":false,\"text\":\"GameStop Revenue\",\"x\":0.5,\"xanchor\":\"center\",\"xref\":\"paper\",\"y\":0.35,\"yanchor\":\"bottom\",\"yref\":\"paper\"}],\"title\":{\"text\":\"GameStop Stock Price and Revenue Dashboard\"}},                        {\"responsive\": true}                    ).then(function(){\n",
              "                            \n",
              "var gd = document.getElementById('a57ecb13-63b6-4181-b501-dd619d7aaca9');\n",
              "var x = new MutationObserver(function (mutations, observer) {{\n",
              "        var display = window.getComputedStyle(gd).display;\n",
              "        if (!display || display === 'none') {{\n",
              "            console.log([gd, 'removed!']);\n",
              "            Plotly.purge(gd);\n",
              "            observer.disconnect();\n",
              "        }}\n",
              "}});\n",
              "\n",
              "// Listen for the removal of the full notebook cells\n",
              "var notebookContainer = gd.closest('#notebook-container');\n",
              "if (notebookContainer) {{\n",
              "    x.observe(notebookContainer, {childList: true});\n",
              "}}\n",
              "\n",
              "// Listen for the clearing of the current output cell\n",
              "var outputEl = gd.closest('.output');\n",
              "if (outputEl) {{\n",
              "    x.observe(outputEl, {childList: true});\n",
              "}}\n",
              "\n",
              "                        })                };                            </script>        </div>\n",
              "</body>\n",
              "</html>"
            ]
          },
          "metadata": {}
        },
        {
          "output_type": "stream",
          "name": "stdout",
          "text": [
            "\n",
            "Merged GameStop Stock and Revenue Data:\n",
            "Empty DataFrame\n",
            "Columns: [Date, Open, High, Low, Close, Volume, Dividends, Stock Splits, Revenue]\n",
            "Index: []\n"
          ]
        }
      ]
    }
  ]
}